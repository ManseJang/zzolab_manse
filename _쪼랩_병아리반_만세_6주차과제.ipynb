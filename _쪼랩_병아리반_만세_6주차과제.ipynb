{
  "nbformat": 4,
  "nbformat_minor": 0,
  "metadata": {
    "colab": {
      "name": "_쪼랩_병아리반_만세_6주차과제",
      "provenance": [],
      "collapsed_sections": [],
      "authorship_tag": "ABX9TyNmt8sxccHhHVeFJvb6f5D1",
      "include_colab_link": true
    },
    "kernelspec": {
      "name": "python3",
      "display_name": "Python 3"
    },
    "language_info": {
      "name": "python"
    }
  },
  "cells": [
    {
      "cell_type": "markdown",
      "metadata": {
        "id": "view-in-github",
        "colab_type": "text"
      },
      "source": [
        "<a href=\"https://colab.research.google.com/github/ManseJang/zzolab_manse/blob/main/_%EC%AA%BC%EB%9E%A9_%EB%B3%91%EC%95%84%EB%A6%AC%EB%B0%98_%EB%A7%8C%EC%84%B8_6%EC%A3%BC%EC%B0%A8%EA%B3%BC%EC%A0%9C.ipynb\" target=\"_parent\"><img src=\"https://colab.research.google.com/assets/colab-badge.svg\" alt=\"Open In Colab\"/></a>"
      ]
    },
    {
      "cell_type": "code",
      "execution_count": 38,
      "metadata": {
        "colab": {
          "base_uri": "https://localhost:8080/",
          "height": 1000
        },
        "id": "YjXc4OvYBGZR",
        "outputId": "8598a56c-e5d9-440e-eccf-9897ed8e943f"
      },
      "outputs": [
        {
          "name": "stdout",
          "output_type": "stream",
          "text": [
            "검색 및 비교를 원하는 지역을 입력해주세요ex)서울 울산, 전라남도, 경상북도 : 전국\n",
            "-------------------------------------------------------------------\n",
            "전국지역 학교 정보입니다.\n",
            "특수학급을 제외한 학급수 : 119904. 총 학생수 : 2664278, 총 교원수 : 150944\n",
            "교사 1인당 학생 수 : 17.650000\n",
            "계속하시겠습니까?(예/아니요)예\n",
            "-------------------------------------------------------------------\n",
            "검색 및 비교를 원하는 지역을 입력해주세요ex)서울 울산, 전라남도, 경상북도 : 서울\n",
            "-------------------------------------------------------------------\n",
            "서울지역 학교 정보입니다.\n",
            "특수학급을 제외한 학급수 : 17563. 총 학생수 : 393565, 총 교원수 : 22190\n",
            "교사 1인당 학생 수 : 17.740000\n",
            "계속하시겠습니까?(예/아니요)예\n",
            "-------------------------------------------------------------------\n",
            "검색 및 비교를 원하는 지역을 입력해주세요ex)서울 울산, 전라남도, 경상북도 : 인천\n",
            "-------------------------------------------------------------------\n",
            "인천지역 학교 정보입니다.\n",
            "특수학급을 제외한 학급수 : 6680. 총 학생수 : 155906, 총 교원수 : 8299\n",
            "교사 1인당 학생 수 : 18.790000\n",
            "계속하시겠습니까?(예/아니요)예\n",
            "-------------------------------------------------------------------\n",
            "검색 및 비교를 원하는 지역을 입력해주세요ex)서울 울산, 전라남도, 경상북도 : 부산\n",
            "-------------------------------------------------------------------\n",
            "부산지역 학교 정보입니다.\n",
            "특수학급을 제외한 학급수 : 6755. 총 학생수 : 154858, 총 교원수 : 8344\n",
            "교사 1인당 학생 수 : 18.560000\n",
            "계속하시겠습니까?(예/아니요)예\n",
            "-------------------------------------------------------------------\n",
            "검색 및 비교를 원하는 지역을 입력해주세요ex)서울 울산, 전라남도, 경상북도 : 대구\n",
            "-------------------------------------------------------------------\n",
            "대구지역 학교 정보입니다.\n",
            "특수학급을 제외한 학급수 : 5221. 총 학생수 : 121485, 총 교원수 : 6861\n",
            "교사 1인당 학생 수 : 17.710000\n",
            "계속하시겠습니까?(예/아니요)예\n",
            "-------------------------------------------------------------------\n",
            "검색 및 비교를 원하는 지역을 입력해주세요ex)서울 울산, 전라남도, 경상북도 : 울산\n",
            "-------------------------------------------------------------------\n",
            "울산지역 학교 정보입니다.\n",
            "특수학급을 제외한 학급수 : 2940. 총 학생수 : 66450, 총 교원수 : 3676\n",
            "교사 1인당 학생 수 : 18.080000\n",
            "계속하시겠습니까?(예/아니요)예\n",
            "-------------------------------------------------------------------\n",
            "검색 및 비교를 원하는 지역을 입력해주세요ex)서울 울산, 전라남도, 경상북도 : 광주\n",
            "-------------------------------------------------------------------\n",
            "광주지역 학교 정보입니다.\n",
            "특수학급을 제외한 학급수 : 3848. 총 학생수 : 83929, 총 교원수 : 4813\n",
            "교사 1인당 학생 수 : 17.440000\n",
            "계속하시겠습니까?(예/아니요)예\n",
            "-------------------------------------------------------------------\n",
            "검색 및 비교를 원하는 지역을 입력해주세요ex)서울 울산, 전라남도, 경상북도 : 대전\n",
            "-------------------------------------------------------------------\n",
            "대전지역 학교 정보입니다.\n",
            "특수학급을 제외한 학급수 : 3678. 총 학생수 : 76960, 총 교원수 : 4604\n",
            "교사 1인당 학생 수 : 16.720000\n",
            "계속하시겠습니까?(예/아니요)아니요\n",
            "-------------------------------------------------------------------\n",
            "지금까지 검색하신 지역의 어떤 자료를 비교하고 싶으십니까?\n",
            "1번 : 학급수\n",
            "2번 : 총 학생수\n",
            "3번 : 총 교원수\n",
            "4번 : 교사 1인당 학생수\n",
            "4\n"
          ]
        },
        {
          "output_type": "display_data",
          "data": {
            "text/plain": [
              "<Figure size 432x288 with 1 Axes>"
            ],
            "image/png": "[encoded data removed]"
          },
          "metadata": {
            "needs_background": "light"
          }
        }
      ],
      "source": [
        "# 2022년 지역별 학급수, 학생수, 교사수, 교사 1인당 학생수\n",
        "\n",
        "import csv\n",
        "import matplotlib.pyplot as plt\n",
        "\n",
        "f = open('school_2022.csv',encoding='utf-8')\n",
        "data = csv.reader(f)\n",
        "\n",
        "next(data)\n",
        "total = []\n",
        "answer = True\n",
        "while answer:\n",
        "    local = input(\"검색 및 비교를 원하는 지역을 입력해주세요ex)서울 울산, 전라남도, 경상북도 : \")\n",
        "    num_class = 0\n",
        "    num_student = 0\n",
        "    num_teacher = 0\n",
        "    num_rate = 0 \n",
        "    for row in data :\n",
        "        if local == '전국':\n",
        "            num_class += (int(row[33]) - int(row[27]))\n",
        "            num_student += int(row[34])\n",
        "            num_teacher += int(row[36])\n",
        "\n",
        "        if local in row[0]:\n",
        "            num_class += (int(row[33]) - int(row[27]))\n",
        "            num_student += int(row[34])\n",
        "            num_teacher += int(row[36])\n",
        "    num_rate = num_student / num_teacher\n",
        "    print(\"-------------------------------------------------------------------\")\n",
        "    print(local+\"지역 학교 정보입니다.\")\n",
        "    print(\"특수학급을 제외한 학급수 : %s. 총 학생수 : %s, 총 교원수 : %s\"%(num_class, num_student, num_teacher))\n",
        "    print(\"교사 1인당 학생 수 : %f\"%(round(num_rate,2)))\n",
        "    temp = [local, num_class, num_student, num_teacher, num_rate]\n",
        "    total.append(temp)\n",
        "    answer1 = input(\"계속하시겠습니까?(예/아니요)\")\n",
        "    print(\"-------------------------------------------------------------------\")\n",
        "    if answer1 == '아니요':\n",
        "        answer = False\n",
        "    f.seek(0)\n",
        "print(\"지금까지 검색하신 지역의 어떤 자료를 비교하고 싶으십니까?\")\n",
        "print(\"1번 : 학급수\\n2번 : 총 학생수\\n3번 : 총 교원수\\n4번 : 교사 1인당 학생수\")\n",
        "selection = int(input())\n",
        "\n",
        "x = []\n",
        "y = []\n",
        "for i in range(len(total)) :\n",
        "    x.append(total[i][0])\n",
        "    y.append(total[i][selection])\n",
        "plt.plot(x,y)\n",
        "plt.show()\n"
      ]
    },
    {
      "cell_type": "code",
      "source": [
        "!apt-get install fonts-nanum -qq > /dev/null\n",
        "!fc-cache -fv\n",
        "import matplotlib as mpl\n",
        "mpl.font_manager._rebuild()\n",
        "findfont = mpl.font_manager.fontManager.findfont\n",
        "mpl.font_manager.findfont = findfont\n",
        "mpl.backends.backend_agg.findfont = findfont"
      ],
      "metadata": {
        "colab": {
          "base_uri": "https://localhost:8080/"
        },
        "id": "iJVGcvjLsop4",
        "outputId": "578a99cf-f81a-4018-fe26-f765daa2309c"
      },
      "execution_count": 27,
      "outputs": [
        {
          "output_type": "stream",
          "name": "stdout",
          "text": [
            "/usr/share/fonts: caching, new cache contents: 0 fonts, 1 dirs\n",
            "/usr/share/fonts/truetype: caching, new cache contents: 0 fonts, 3 dirs\n",
            "/usr/share/fonts/truetype/humor-sans: caching, new cache contents: 1 fonts, 0 dirs\n",
            "/usr/share/fonts/truetype/liberation: caching, new cache contents: 16 fonts, 0 dirs\n",
            "/usr/share/fonts/truetype/nanum: caching, new cache contents: 10 fonts, 0 dirs\n",
            "/usr/local/share/fonts: caching, new cache contents: 0 fonts, 0 dirs\n",
            "/root/.local/share/fonts: skipping, no such directory\n",
            "/root/.fonts: skipping, no such directory\n",
            "/var/cache/fontconfig: cleaning cache directory\n",
            "/root/.cache/fontconfig: not cleaning non-existent cache directory\n",
            "/root/.fontconfig: not cleaning non-existent cache directory\n",
            "fc-cache: succeeded\n"
          ]
        }
      ]
    },
    {
      "cell_type": "code",
      "source": [
        "import matplotlib.pyplot as plt\n",
        "plt.rcParams['axes.unicode_minus'] = False\n",
        "plt.rc('font', family = 'NanumGothic')"
      ],
      "metadata": {
        "id": "2v7KMnmLq1Aw"
      },
      "execution_count": 28,
      "outputs": []
    }
  ]
}